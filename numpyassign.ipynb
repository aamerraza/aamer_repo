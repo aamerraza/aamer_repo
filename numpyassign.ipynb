{
 "cells": [
  {
   "cell_type": "markdown",
   "metadata": {},
   "source": [
    "### Numpy Assignment No.1"
   ]
  },
  {
   "cell_type": "markdown",
   "metadata": {},
   "source": [
    "#### Q1: Basic Array Operations\n"
   ]
  },
  {
   "cell_type": "code",
   "execution_count": 41,
   "metadata": {},
   "outputs": [],
   "source": [
    "import pandas as pd\n",
    "import numpy as np"
   ]
  },
  {
   "cell_type": "code",
   "execution_count": 42,
   "metadata": {},
   "outputs": [
    {
     "name": "stdout",
     "output_type": "stream",
     "text": [
      "[1 2 3 4]\n"
     ]
    }
   ],
   "source": [
    "#Create a 1D array, a 2D array, and a 3D array.\n",
    "# One Demensional Array\n",
    "oneD = np.array([1, 2, 3, 4]) # 1D array \n",
    "print(oneD) "
   ]
  },
  {
   "cell_type": "code",
   "execution_count": 43,
   "metadata": {},
   "outputs": [
    {
     "name": "stdout",
     "output_type": "stream",
     "text": [
      "[[1 2]\n",
      " [3 4]]\n"
     ]
    }
   ],
   "source": [
    "# Two Demensional Array\n",
    "twoD = np.array([[1, 2], [3, 4]]) # 2D Array\n",
    "#twoD\n",
    "print(twoD)"
   ]
  },
  {
   "cell_type": "code",
   "execution_count": 44,
   "metadata": {},
   "outputs": [
    {
     "name": "stdout",
     "output_type": "stream",
     "text": [
      "[[ 2  4]\n",
      " [ 6  8]\n",
      " [10 12]]\n"
     ]
    },
    {
     "data": {
      "text/plain": [
       "array([[ 2,  4],\n",
       "       [ 6,  8],\n",
       "       [10, 12]])"
      ]
     },
     "execution_count": 44,
     "metadata": {},
     "output_type": "execute_result"
    }
   ],
   "source": [
    "# Three Demensional Array\n",
    "threeD = np.array([[2, 4], [6, 8], [10, 12]]) # 3D Array\n",
    "print(threeD)\n",
    "threeD"
   ]
  },
  {
   "cell_type": "code",
   "execution_count": 45,
   "metadata": {},
   "outputs": [],
   "source": [
    "#Perform slicing operations on arrays.\n",
    "slicing = np.arange(10)**3 # create array cube by arange function \n",
    "#print(slicing)\n",
    "#print(slicing[4:8]) #array slincing \n",
    "sli = np.arange(10)**3\n",
    "sli[2:6:2]\n",
    "sli\n",
    "slicing[:8:2] = -1000 \n",
    "#slicing"
   ]
  },
  {
   "cell_type": "code",
   "execution_count": 46,
   "metadata": {},
   "outputs": [
    {
     "data": {
      "text/plain": [
       "array([[ 9, 14, 19],\n",
       "       [ 7, 13, 19]])"
      ]
     },
     "execution_count": 46,
     "metadata": {},
     "output_type": "execute_result"
    }
   ],
   "source": [
    "#Perform basic arithmetic operations on arrays (addition, subtraction, multiplication, division)\n",
    "art1 = np.array([[2, 4, 6],[1, 2, 3]])\n",
    "art2 = np.array([[1, 3, 5],[4, 5, 6]])\n",
    "art3 = np.array([[6, 7, 8],[2, 6, 10]])\n",
    "art1 + art2 + art3 # Addition of array"
   ]
  },
  {
   "cell_type": "code",
   "execution_count": 47,
   "metadata": {},
   "outputs": [
    {
     "data": {
      "text/plain": [
       "array([[ -5,  -6,  -7],\n",
       "       [ -5,  -9, -13]])"
      ]
     },
     "execution_count": 47,
     "metadata": {},
     "output_type": "execute_result"
    }
   ],
   "source": [
    "art1 - art2 - art3 # Subtraction of array\n"
   ]
  },
  {
   "cell_type": "code",
   "execution_count": 48,
   "metadata": {},
   "outputs": [
    {
     "data": {
      "text/plain": [
       "array([[ 12,  84, 240],\n",
       "       [  8,  60, 180]])"
      ]
     },
     "execution_count": 48,
     "metadata": {},
     "output_type": "execute_result"
    }
   ],
   "source": [
    "art1 * art2 * art3 # Multiplication of array\n"
   ]
  },
  {
   "cell_type": "code",
   "execution_count": 49,
   "metadata": {},
   "outputs": [
    {
     "data": {
      "text/plain": [
       "array([[0.33333333, 0.19047619, 0.15      ],\n",
       "       [0.125     , 0.06666667, 0.05      ]])"
      ]
     },
     "execution_count": 49,
     "metadata": {},
     "output_type": "execute_result"
    }
   ],
   "source": [
    "art1 / art2 / art3 # division of array\n"
   ]
  },
  {
   "cell_type": "markdown",
   "metadata": {},
   "source": [
    "#### Q2: Array Creation and Manipulation\n"
   ]
  },
  {
   "cell_type": "code",
   "execution_count": 50,
   "metadata": {},
   "outputs": [
    {
     "name": "stdout",
     "output_type": "stream",
     "text": [
      "[0. 0. 0. 0. 0.]\n"
     ]
    },
    {
     "data": {
      "text/plain": [
       "array([0, 0, 0, 0, 0, 0, 0, 0, 0, 0])"
      ]
     },
     "execution_count": 50,
     "metadata": {},
     "output_type": "execute_result"
    }
   ],
   "source": [
    "#Create arrays using different functions: arange, linspace, zeros, ones, eye, random.\n",
    "zero = np.zeros(5) # using simple zero function\n",
    "print(zero)\n",
    "zero = np.zeros((10,), dtype=int)\n",
    "#zero = np.zeros((2,2), dtype=[('x', 'i4'), ('y', 'i4')]) # using zero function \n",
    "zero"
   ]
  },
  {
   "cell_type": "code",
   "execution_count": 51,
   "metadata": {},
   "outputs": [
    {
     "name": "stdout",
     "output_type": "stream",
     "text": [
      "Arry is: [10 12 14 16 18 20 22 24 26 28]\n",
      "Reshaped array is: [[10 12 14 16 18]\n",
      " [20 22 24 26 28]]\n"
     ]
    }
   ],
   "source": [
    "#Reshape an array.\n",
    "arange_arr = np.arange(10,30,2) # create array between 10 to 30 \n",
    "reshape_arr = arange_arr.reshape(2,5)\n",
    "print(\"Arry is:\", arange_arr)\n",
    "print(\"Reshaped array is:\", reshape_arr)"
   ]
  },
  {
   "cell_type": "code",
   "execution_count": 52,
   "metadata": {},
   "outputs": [
    {
     "name": "stdout",
     "output_type": "stream",
     "text": [
      "concatenate array: [ 4  6  8 10  1  2  3  4]\n"
     ]
    }
   ],
   "source": [
    "#Concatenate and split arrays.\n",
    "arr1 = np.array([4, 6, 8, 10]) # create Array one\n",
    "arr2 = np.array([1, 2, 3, 4]) # create array two\n",
    "concatenate_arr = np.concatenate((arr1,arr2), axis= 0) # concatenate both array with concatenate function\n",
    "print(\"concatenate array:\", concatenate_arr)"
   ]
  },
  {
   "cell_type": "markdown",
   "metadata": {},
   "source": [
    "#### Q3: Statistical Operations"
   ]
  },
  {
   "cell_type": "code",
   "execution_count": 61,
   "metadata": {},
   "outputs": [
    {
     "name": "stdout",
     "output_type": "stream",
     "text": [
      "Original array:  [50 55 60 65 70 75 80 85 90 95]\n",
      "Mean:  72.5\n"
     ]
    }
   ],
   "source": [
    "#Compute mean, median, variance, and standard deviation of an array.\n",
    "# Mean standard deviation of an array\n",
    "state_arr = np.arange(50,100,5)  # create array value 10 between 50 to 160 \n",
    "mean_arr = np.mean(state_arr) # make mean of array with mean function\n",
    "print(\"Original array: \", state_arr)\n",
    "print(\"Mean: \", mean_arr)"
   ]
  },
  {
   "cell_type": "code",
   "execution_count": 71,
   "metadata": {},
   "outputs": [
    {
     "name": "stdout",
     "output_type": "stream",
     "text": [
      "original of the array is:  [ 1  3  5  7  9 11 13 15 17 19 21 23 25 27 29 31 33 35]\n",
      "reshaped array is:  [[ 1  3  5  7  9 11]\n",
      " [13 15 17 19 21 23]\n",
      " [25 27 29 31 33 35]]\n",
      "Median of the array is:  [13. 15. 17. 19. 21. 23.]\n"
     ]
    }
   ],
   "source": [
    "# Median standard deviation of an array\n",
    "state_arr1 = np.arange(1,36,2) # create arry of 18 value from 1 to 36\n",
    "reshape_arr1 = state_arr1.reshape(3,6) # reshape the arry\n",
    "median_arr = np.median(reshape_arr1, axis=0) # median of arry\n",
    "print(\"original of the array is: \", state_arr)\n",
    "print(\"reshaped array is: \", reshape_arr1)\n",
    "print(\"Median of the array is: \", median_arr)\n"
   ]
  },
  {
   "cell_type": "code",
   "execution_count": 78,
   "metadata": {},
   "outputs": [
    {
     "name": "stdout",
     "output_type": "stream",
     "text": [
      "original array is:  [ 4  6  8 10 12 14]\n",
      "Variance of the array is:  11.666666666666666\n",
      "direct variance 2.6666666666666665\n"
     ]
    }
   ],
   "source": [
    "#variance standard deviation of an array\n",
    "state_arr2 = np.arange(4,16,2)# create arry of 7 value from 4 to 16\n",
    "variance = state_arr2.var() # apply vraience function\n",
    "print(\"original array is: \", state_arr2)\n",
    "print(\"Variance of the array is: \", variance)\n",
    "print(\"direct variance\", np.var([2, 4, 6])) # we can find direct varienace"
   ]
  },
  {
   "cell_type": "code",
   "execution_count": 84,
   "metadata": {},
   "outputs": [
    {
     "name": "stdout",
     "output_type": "stream",
     "text": [
      "original array: [20 24 28 32 36 40 44 48 52 56 60 64 68 72 76]\n",
      "standard deviation of array: 17.281975195754296\n"
     ]
    }
   ],
   "source": [
    "#standard deviation of an array\n",
    "state_arr3 = np.arange(20,80,4) # create random arry of 10 value from 20 to 80\n",
    "#std = sqrt(mean(abs(x - x.mean())**2)) # std formula\n",
    "sd = state_arr3.std() # standard deviation function\n",
    "print(\"original array:\",state_arr3)\n",
    "print(\"standard deviation of array:\",sd)"
   ]
  },
  {
   "cell_type": "code",
   "execution_count": 83,
   "metadata": {},
   "outputs": [
    {
     "name": "stdout",
     "output_type": "stream",
     "text": [
      "Array:  [46 41 61 83 28 30 50 52 95 48]\n",
      "Minimum value:  28\n"
     ]
    }
   ],
   "source": [
    "#Find the minimum and maximum values in an array along with their indices.\n",
    "# minimum values in an array\n",
    "arr3 = np.random.randint(20, 100, 10, dtype=int) \n",
    "mini = arr3.min()\n",
    "print(\"Array: \", arr3)\n",
    "print(\"Minimum value: \", mini)"
   ]
  },
  {
   "cell_type": "code",
   "execution_count": 86,
   "metadata": {},
   "outputs": [
    {
     "name": "stdout",
     "output_type": "stream",
     "text": [
      "Array:  [68 48 53 85 62 96 76 76 89 36]\n",
      "Max value:  96\n"
     ]
    }
   ],
   "source": [
    "#maximum values in an array\n",
    "arr3 = np.random.randint(20, 100, 10, dtype=int) \n",
    "maxi = arr3.max()\n",
    "print(\"Array: \", arr3)\n",
    "print(\"Max value: \", maxi)"
   ]
  },
  {
   "cell_type": "code",
   "execution_count": null,
   "metadata": {},
   "outputs": [],
   "source": [
    "#Compute the sum and product of array elements.\n"
   ]
  },
  {
   "cell_type": "markdown",
   "metadata": {},
   "source": [
    "#### Q4: Broadcasting\n"
   ]
  },
  {
   "cell_type": "code",
   "execution_count": null,
   "metadata": {},
   "outputs": [],
   "source": [
    "#Demonstrate broadcasting with examples of different shapes of arrays."
   ]
  },
  {
   "cell_type": "code",
   "execution_count": null,
   "metadata": {},
   "outputs": [],
   "source": [
    "#Explain the concept of broadcasting and how it works in NumPy."
   ]
  },
  {
   "cell_type": "markdown",
   "metadata": {},
   "source": [
    "#### Q5: Linear Algebra"
   ]
  },
  {
   "cell_type": "code",
   "execution_count": null,
   "metadata": {},
   "outputs": [],
   "source": [
    "#Perform matrix multiplication."
   ]
  },
  {
   "cell_type": "code",
   "execution_count": null,
   "metadata": {},
   "outputs": [],
   "source": [
    "#Compute the determinant, inverse, and eigenvalues of a matrix."
   ]
  },
  {
   "cell_type": "code",
   "execution_count": null,
   "metadata": {},
   "outputs": [],
   "source": [
    "#Solve a system of linear equations."
   ]
  },
  {
   "cell_type": "markdown",
   "metadata": {},
   "source": [
    "#### Q6: Advanced Indexing and Slicing\n"
   ]
  },
  {
   "cell_type": "code",
   "execution_count": null,
   "metadata": {},
   "outputs": [],
   "source": [
    "#Use Boolean indexing to filter an array."
   ]
  },
  {
   "cell_type": "code",
   "execution_count": null,
   "metadata": {},
   "outputs": [],
   "source": [
    "#Use fancy indexing to select specific elements from an array."
   ]
  },
  {
   "cell_type": "code",
   "execution_count": null,
   "metadata": {},
   "outputs": [],
   "source": [
    "#Perform advanced slicing operations."
   ]
  },
  {
   "cell_type": "markdown",
   "metadata": {},
   "source": [
    "#### Q7: Random Sampling"
   ]
  },
  {
   "cell_type": "code",
   "execution_count": null,
   "metadata": {},
   "outputs": [],
   "source": [
    "#Generate random numbers from different distributions."
   ]
  },
  {
   "cell_type": "code",
   "execution_count": null,
   "metadata": {},
   "outputs": [],
   "source": [
    "#Create random samples from a dataset."
   ]
  },
  {
   "cell_type": "code",
   "execution_count": null,
   "metadata": {},
   "outputs": [],
   "source": [
    "#Perform random shuffling of an array."
   ]
  }
 ],
 "metadata": {
  "kernelspec": {
   "display_name": "Python 3",
   "language": "python",
   "name": "python3"
  },
  "language_info": {
   "codemirror_mode": {
    "name": "ipython",
    "version": 3
   },
   "file_extension": ".py",
   "mimetype": "text/x-python",
   "name": "python",
   "nbconvert_exporter": "python",
   "pygments_lexer": "ipython3",
   "version": "3.12.3"
  }
 },
 "nbformat": 4,
 "nbformat_minor": 2
}
